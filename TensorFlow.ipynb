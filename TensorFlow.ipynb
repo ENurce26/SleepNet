{
 "cells": [
  {
   "cell_type": "code",
   "execution_count": 19,
   "id": "58a8619a-a38c-42bd-8e20-2001da966489",
   "metadata": {},
   "outputs": [],
   "source": [
    "import mne\n",
    "import numpy as np\n",
    "import pandas as pd\n",
    "from sklearn.model_selection import train_test_split\n",
    "from sklearn.preprocessing import StandardScaler\n",
    "from tensorflow.keras.models import Sequential\n",
    "from tensorflow.keras.layers import Conv1D, MaxPooling1D, Flatten, Dense, Dropout, BatchNormalization, Activation\n",
    "from tensorflow.keras.optimizers import Adam\n",
    "from tensorflow.keras.callbacks import EarlyStopping\n",
    "from tensorflow.keras.regularizers import l2"
   ]
  },
  {
   "cell_type": "code",
   "execution_count": 22,
   "id": "6457b0bf-4471-4835-83cc-f3de6879a6c6",
   "metadata": {},
   "outputs": [
    {
     "name": "stdout",
     "output_type": "stream",
     "text": [
      "Extracting EDF parameters from /Users/eribertonurce/Desktop/project/python/mne/Mouse_3a_1hr_seg1213.edf...\n",
      "EDF file detected\n",
      "Setting channel info structure...\n",
      "Creating raw.info structure...\n",
      "Reading 0 ... 7199999  =      0.000 ...  3599.999 secs...\n",
      "Data and labels are ready for model training.\n"
     ]
    },
    {
     "name": "stderr",
     "output_type": "stream",
     "text": [
      "/usr/local/lib/python3.11/site-packages/keras/src/layers/convolutional/base_conv.py:99: UserWarning: Do not pass an `input_shape`/`input_dim` argument to a layer. When using Sequential models, prefer using an `Input(shape)` object as the first layer in the model instead.\n",
      "  super().__init__(\n"
     ]
    },
    {
     "name": "stdout",
     "output_type": "stream",
     "text": [
      "Epoch 1/20\n",
      "\u001b[1m8/8\u001b[0m \u001b[32m━━━━━━━━━━━━━━━━━━━━\u001b[0m\u001b[37m\u001b[0m \u001b[1m9s\u001b[0m 790ms/step - accuracy: 0.3449 - loss: 6.6498 - val_accuracy: 0.4483 - val_loss: 18.4503\n",
      "Epoch 2/20\n",
      "\u001b[1m8/8\u001b[0m \u001b[32m━━━━━━━━━━━━━━━━━━━━\u001b[0m\u001b[37m\u001b[0m \u001b[1m6s\u001b[0m 778ms/step - accuracy: 0.5778 - loss: 5.9507 - val_accuracy: 0.5690 - val_loss: 41.7407\n",
      "\u001b[1m3/3\u001b[0m \u001b[32m━━━━━━━━━━━━━━━━━━━━\u001b[0m\u001b[37m\u001b[0m \u001b[1m1s\u001b[0m 139ms/step - accuracy: 0.5130 - loss: 5.3259\n",
      "Test Accuracy: 0.5416666865348816\n"
     ]
    }
   ],
   "source": [
    "\n",
    "# Load your EDF file\n",
    "edf_path = 'Mouse_3a_1hr_seg1213.edf'\n",
    "raw = mne.io.read_raw_edf(edf_path, preload=True)\n",
    "\n",
    "# Select EEG and EMG channels\n",
    "picks = ['CHN9 - Eeg', 'CHN10 - Ecg']  # Adjust channel names as needed\n",
    "\n",
    "# Extract data and convert to NumPy array\n",
    "data, times = raw[picks, :]\n",
    "data = data.transpose()  # Transpose to have shape (n_samples, n_channels)\n",
    "\n",
    "# Standardize the data\n",
    "scaler = StandardScaler()\n",
    "data = scaler.fit_transform(data)\n",
    "\n",
    "# Define segmentation parameters\n",
    "sampling_rate = 2000  # Sampling rate in Hz\n",
    "segment_length = 10 * sampling_rate  # 10 seconds * 2000 Hz = 20,000 data points per segment\n",
    "\n",
    "# Segment the data\n",
    "segments = np.array([data[i:i + segment_length] for i in range(0, len(data) - segment_length + 1, segment_length)])\n",
    "\n",
    "\n",
    "# Load the labels from the CSV file\n",
    "labels_df = pd.read_csv('./Book.csv')\n",
    "labels = labels_df['Stage'].values - 1\n",
    "\n",
    "# Ensure the number of segments matches the number of labels\n",
    "if len(segments) != len(labels):\n",
    "    print(\"Mismatch between the number of segments and labels. Adjust the data or labels accordingly.\")\n",
    "else:\n",
    "    print(\"Data and labels are ready for model training.\")\n",
    "\n",
    "# Split data into training, validation, and test sets\n",
    "segments_train, segments_test, labels_train, labels_test = train_test_split(segments, labels, test_size=0.2, random_state=26)\n",
    "\n",
    "# Define, compile, and train the model\n",
    "model = Sequential([\n",
    "    Conv1D(filters=64, kernel_size=3, input_shape=(segment_length, 2), kernel_regularizer=l2(0.01)),\n",
    "    MaxPooling1D(pool_size=2),\n",
    "    \n",
    "    Conv1D(filters=64, kernel_size=3),\n",
    "    MaxPooling1D(pool_size=2),\n",
    "    \n",
    "    Flatten(),\n",
    "    Dense(100, activation='relu', kernel_regularizer=l2(0.01)),\n",
    "    Dropout(0.33),\n",
    "    Dense(3, activation='softmax')\n",
    "])\n",
    "\n",
    "model.compile(optimizer=Adam(learning_rate=0.001), loss='sparse_categorical_crossentropy', metrics=['accuracy'])\n",
    "\n",
    "\n",
    "# Early stopping\n",
    "early_stopping = EarlyStopping(monitor='val_loss', patience=1, mode='min', restore_best_weights=True)\n",
    "\n",
    "model.fit(segments_train, labels_train, epochs=20, batch_size=32, validation_split=0.2, callbacks=[early_stopping])\n",
    "\n",
    "# Evaluate the model on the test set\n",
    "test_loss, test_acc = model.evaluate(segments_test, labels_test)\n",
    "print(f\"Test Accuracy: {test_acc}\")\n",
    "\n"
   ]
  },
  {
   "cell_type": "code",
   "execution_count": 4,
   "id": "8fdedbcd-a8e3-46e5-b813-5706ea2ab90c",
   "metadata": {},
   "outputs": [
    {
     "name": "stdout",
     "output_type": "stream",
     "text": [
      "Learning Rate: 0.01, Last Epoch Accuracy: 0.43913042545318604\n",
      "Learning Rate: 0.001, Last Epoch Accuracy: 0.665217399597168\n",
      "Learning Rate: 0.0001, Last Epoch Accuracy: 0.582608699798584\n"
     ]
    }
   ],
   "source": [
    "learning_rates = [0.01, 0.001, 0.0001]  # Example learning rates\n",
    "\n",
    "for lr in learning_rates:\n",
    "    # Define the model architecture\n",
    "    # Define, compile, and train the model with Batch Normalization\n",
    "    model = Sequential([\n",
    "        Conv1D(filters=64, kernel_size=3, input_shape=(segment_length, 2)),\n",
    "        BatchNormalization(),  # Add Batch Normalization\n",
    "        Activation('relu'),    # Activation function applied after Batch Normalization\n",
    "        MaxPooling1D(pool_size=2),\n",
    "        \n",
    "        Conv1D(filters=64, kernel_size=3),\n",
    "        BatchNormalization(),  # Add Batch Normalization\n",
    "        Activation('relu'),    # Activation function applied after Batch Normalization\n",
    "        MaxPooling1D(pool_size=2),\n",
    "        \n",
    "        Flatten(),\n",
    "        Dense(100, activation='relu'),\n",
    "        Dropout(0.2),\n",
    "        Dense(3, activation='softmax')\n",
    "    ])\n",
    "    \n",
    "    # Compile the model with the current learning rate\n",
    "    model.compile(optimizer=Adam(learning_rate=lr), loss='sparse_categorical_crossentropy', metrics=['accuracy'])\n",
    "    \n",
    "    # Train the model\n",
    "    history = model.fit(segments_train, labels_train, epochs=10, batch_size=32, validation_split=0.2, verbose=0)  # Set verbose=0 to silence the output\n",
    "    \n",
    "    # Print out the accuracy of the model on the last epoch\n",
    "    print(f\"Learning Rate: {lr}, Last Epoch Accuracy: {history.history['accuracy'][-1]}\")"
   ]
  },
  {
   "cell_type": "code",
   "execution_count": 23,
   "id": "b2b502ff-9d76-4add-ab92-79109e626478",
   "metadata": {},
   "outputs": [
    {
     "name": "stdout",
     "output_type": "stream",
     "text": [
      "\u001b[1m3/3\u001b[0m \u001b[32m━━━━━━━━━━━━━━━━━━━━\u001b[0m\u001b[37m\u001b[0m \u001b[1m1s\u001b[0m 128ms/step\n"
     ]
    },
    {
     "data": {
      "image/png": "[encoded data removed]",
      "text/plain": [
       "<Figure size 800x600 with 2 Axes>"
      ]
     },
     "metadata": {},
     "output_type": "display_data"
    }
   ],
   "source": [
    "from sklearn.metrics import confusion_matrix\n",
    "import matplotlib.pyplot as plt\n",
    "import seaborn as sns\n",
    "# Generate predictions for the test set\n",
    "predictions_test = model.predict(segments_test)\n",
    "\n",
    "# Convert the probabilities to class labels\n",
    "predicted_labels_test = np.argmax(predictions_test, axis=1)\n",
    "\n",
    "\n",
    "\n",
    "# Assuming `labels_test` contains the true labels\n",
    "cm = confusion_matrix(labels_test, predicted_labels_test)\n",
    "\n",
    "\n",
    "# Set up the matplotlib figure\n",
    "plt.figure(figsize=(8, 6))\n",
    "\n",
    "# Draw the heatmap with the mask and correct aspect ratio\n",
    "sns.heatmap(cm, annot=True, fmt=\"d\", cmap='Blues', square=True, xticklabels=['Wake', 'REM', 'NREM'], yticklabels=['Wake', 'REM', 'NREM'])\n",
    "plt.title('Confusion Matrix')\n",
    "plt.ylabel('True label')\n",
    "plt.xlabel('Predicted label')\n",
    "plt.show()\n"
   ]
  },
  {
   "cell_type": "code",
   "execution_count": null,
   "id": "d18b1fbc-e90a-4e05-91cb-76c50e81a582",
   "metadata": {},
   "outputs": [],
   "source": []
  }
 ],
 "metadata": {
  "kernelspec": {
   "display_name": "Python 3 (ipykernel)",
   "language": "python",
   "name": "python3"
  },
  "language_info": {
   "codemirror_mode": {
    "name": "ipython",
    "version": 3
   },
   "file_extension": ".py",
   "mimetype": "text/x-python",
   "name": "python",
   "nbconvert_exporter": "python",
   "pygments_lexer": "ipython3",
   "version": "3.11.6"
  }
 },
 "nbformat": 4,
 "nbformat_minor": 5
}
